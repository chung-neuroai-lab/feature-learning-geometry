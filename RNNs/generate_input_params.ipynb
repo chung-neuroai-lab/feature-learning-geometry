{
 "cells": [
  {
   "cell_type": "code",
   "execution_count": 1,
   "metadata": {
    "metadata": {},
    "tags": []
   },
   "outputs": [],
   "source": [
    "import json\n",
    "import numpy as np"
   ]
  },
  {
   "cell_type": "code",
   "execution_count": 2,
   "metadata": {},
   "outputs": [],
   "source": [
    "def generate_parameter_list(inputs, intermediate_results=[]):\n",
    "    \"\"\"Generate list of parameters with inputs as dict with keys as parameter names,\n",
    "    values are list of possible parameter values, and output as list of all possible dict\n",
    "    with keys are parameter names, values are parameter values.\n",
    "\n",
    "    Args:\n",
    "        inputs (dict<str, list>): Dict with keys as parameter names, values are list of possible parameter values\n",
    "        intermediate_results (list, optional): Intermediate results of parameter list. Defaults to [].\n",
    "\n",
    "    Returns:\n",
    "        list(dict<str, any>): List of all possible dict with keys are parameter names, values are parameter values.\n",
    "    \"\"\"\n",
    "    if len(inputs) == 0: #base case\n",
    "        return intermediate_results\n",
    "    if len(inputs) > 0: # recursive case\n",
    "        new_intermediate_results = []\n",
    "        key, vals = inputs.popitem()\n",
    "        for val in vals:\n",
    "            if len(intermediate_results) == 0: # edge case when intermediate result is empty\n",
    "                new_intermediate_results.append({key: val})\n",
    "            else:\n",
    "                for res in intermediate_results:\n",
    "                    new_intermediate_results.append({**res, key: val})\n",
    "        return generate_parameter_list(inputs, intermediate_results=new_intermediate_results)"
   ]
  },
  {
   "cell_type": "code",
   "execution_count": 3,
   "metadata": {},
   "outputs": [],
   "source": [
    "# Set up parameters\n",
    "test_data_folder = \"/mnt/home/hlethi/ceph/data/feature_learning_RNN\" #change to your folder\n",
    "save_folder = \"/mnt/home/hlethi/ceph/feature_learning_RNN/feature_learning_RNN_20240915\" #change to your folder\n",
    "num_seed = 10\n",
    "parameter_inputs = {\n",
    "    \"task\": [\"CXT\", \"2AF\", \"DMS\"],\n",
    "    \"test_data_folder\": [test_data_folder],\n",
    "    \"save_folder\": [save_folder],\n",
    "    \"seed\": [int(i) for i in np.random.choice(100, size=num_seed, replace=False)],\n",
    "}\n",
    "# Generate parameter list\n",
    "parameter_list = generate_parameter_list(parameter_inputs)"
   ]
  },
  {
   "cell_type": "code",
   "execution_count": 4,
   "metadata": {
    "metadata": {},
    "tags": []
   },
   "outputs": [
    {
     "name": "stdout",
     "output_type": "stream",
     "text": [
      "Save parameter list to json file at params/params_20240915.json\n"
     ]
    }
   ],
   "source": [
    "# Save parameter list into json file\n",
    "filename = \"params/params_20240915.json\"\n",
    "json.dump(parameter_list, open(filename, \"w\"))\n",
    "print(f\"Save parameter list to json file at {filename}\")"
   ]
  },
  {
   "cell_type": "code",
   "execution_count": 5,
   "metadata": {
    "metadata": {}
   },
   "outputs": [
    {
     "name": "stdout",
     "output_type": "stream",
     "text": [
      "Job array length: 0-5\n"
     ]
    }
   ],
   "source": [
    "# Get job array length for `sbatch --array` (if use slurm)\n",
    "n_thread = 5 # number of threads for each node\n",
    "num_jobs = len(parameter_list)\n",
    "job_array_length = (num_jobs // n_thread) - 1 if num_jobs % n_thread == 0 else num_jobs // n_thread\n",
    "print(f\"Job array length: 0-{job_array_length}\")"
   ]
  }
 ],
 "metadata": {
  "kernelspec": {
   "display_name": "mlGeometry",
   "language": "python",
   "name": "python3"
  },
  "language_info": {
   "codemirror_mode": {
    "name": "ipython",
    "version": 3
   },
   "file_extension": ".py",
   "mimetype": "text/x-python",
   "name": "python",
   "nbconvert_exporter": "python",
   "pygments_lexer": "ipython3",
   "version": "3.10.10"
  }
 },
 "nbformat": 4,
 "nbformat_minor": 4
}
