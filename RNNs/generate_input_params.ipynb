{
 "cells": [
  {
   "cell_type": "code",
   "execution_count": 8,
   "metadata": {
    "metadata": {},
    "tags": []
   },
   "outputs": [],
   "source": [
    "import json\n",
    "import numpy as np"
   ]
  },
  {
   "cell_type": "code",
   "execution_count": 9,
   "metadata": {},
   "outputs": [],
   "source": [
    "def generate_parameter_list(inputs, intermediate_results=[]):\n",
    "    \"\"\"Generate list of parameters with inputs as dict with keys as parameter names,\n",
    "    values are list of possible parameter values, and output as list of all possible dict\n",
    "    with keys are parameter names, values are parameter values.\n",
    "\n",
    "    Args:\n",
    "        inputs (dict<str, list>): Dict with keys as parameter names, values are list of possible parameter values\n",
    "        intermediate_results (list, optional): Intermediate results of parameter list. Defaults to [].\n",
    "\n",
    "    Returns:\n",
    "        list(dict<str, any>): List of all possible dict with keys are parameter anems, values are parameter values.\n",
    "    \"\"\"\n",
    "    if len(inputs) == 0: #base case\n",
    "        return intermediate_results\n",
    "    if len(inputs) > 0: # recursive case\n",
    "        new_intermediate_results = []\n",
    "        key, vals = inputs.popitem()\n",
    "        for val in vals:\n",
    "            if len(intermediate_results) == 0: # edge case when intermediate result is empty\n",
    "                new_intermediate_results.append({key: val})\n",
    "            else:\n",
    "                for res in intermediate_results:\n",
    "                    new_intermediate_results.append({**res, key: val})\n",
    "        return generate_parameter_list(inputs, intermediate_results=new_intermediate_results)"
   ]
  },
  {
   "cell_type": "code",
   "execution_count": 10,
   "metadata": {},
   "outputs": [],
   "source": [
    "parameter_inputs = {\n",
    "    \"task\": [\"CXT\", \"2AF\", \"DMS\"],\n",
    "    \"test_data_folder\": [\"/mnt/home/hlethi/ceph/data/feature_learning_RNN\"],\n",
    "    \"save_folder\": [\"/mnt/home/hlethi/ceph/feature_learning_RNN/feature_learning_RNN_20240915\"],\n",
    "    \"seed\": [int(i) for i in np.random.choice(100, size=50, replace=False)],\n",
    "}"
   ]
  },
  {
   "cell_type": "code",
   "execution_count": 11,
   "metadata": {
    "metadata": {},
    "tags": []
   },
   "outputs": [
    {
     "name": "stdout",
     "output_type": "stream",
     "text": [
      "150\n"
     ]
    }
   ],
   "source": [
    "# Generate parameter list\n",
    "parameter_list = generate_parameter_list(parameter_inputs)\n",
    "print(len(parameter_list))"
   ]
  },
  {
   "cell_type": "code",
   "execution_count": 12,
   "metadata": {
    "metadata": {},
    "tags": []
   },
   "outputs": [
    {
     "name": "stdout",
     "output_type": "stream",
     "text": [
      "Save parameter list to json file at params/params_20240915.json\n"
     ]
    }
   ],
   "source": [
    "# Save parameter list into json file\n",
    "filename = \"params/params_20240915.json\"\n",
    "json.dump(parameter_list, open(filename, \"w\"))\n",
    "print(f\"Save parameter list to json file at {filename}\")"
   ]
  },
  {
   "cell_type": "code",
   "execution_count": 13,
   "metadata": {
    "metadata": {}
   },
   "outputs": [
    {
     "name": "stdout",
     "output_type": "stream",
     "text": [
      "Job array length: 0-29\n"
     ]
    }
   ],
   "source": [
    "n_thread = 5\n",
    "num_jobs = len(parameter_list)\n",
    "job_array_length = (num_jobs // n_thread) - 1 if num_jobs % n_thread == 0 else num_jobs // n_thread\n",
    "print(f\"Job array length: 0-{job_array_length}\")"
   ]
  }
 ],
 "metadata": {
  "kernelspec": {
   "display_name": "Python 3 (ipykernel)",
   "language": "python",
   "name": "python3"
  },
  "language_info": {
   "codemirror_mode": {
    "name": "ipython",
    "version": 3
   },
   "file_extension": ".py",
   "mimetype": "text/x-python",
   "name": "python",
   "nbconvert_exporter": "python",
   "pygments_lexer": "ipython3",
   "version": "3.10.10"
  }
 },
 "nbformat": 4,
 "nbformat_minor": 4
}
