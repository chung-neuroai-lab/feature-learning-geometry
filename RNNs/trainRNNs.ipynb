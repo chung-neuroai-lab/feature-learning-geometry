{
 "cells": [
  {
   "cell_type": "code",
   "execution_count": null,
   "id": "327a6654",
   "metadata": {},
   "outputs": [],
   "source": [
    "# Notebook code adapted from `https://github.com/Helena-Yuhan-Liu/BioRNN_RichLazy`"
   ]
  },
  {
   "cell_type": "code",
   "execution_count": null,
   "id": "4e9be532",
   "metadata": {},
   "outputs": [],
   "source": [
    "# TODO: Port the notebook from the `BioRNN_RichLazy.ipynb` to this one"
   ]
  }
 ],
 "metadata": {
  "kernelspec": {
   "display_name": "mlGeometry",
   "language": "python",
   "name": "python3"
  },
  "language_info": {
   "name": "python",
   "version": "3.10.10"
  }
 },
 "nbformat": 4,
 "nbformat_minor": 5
}
